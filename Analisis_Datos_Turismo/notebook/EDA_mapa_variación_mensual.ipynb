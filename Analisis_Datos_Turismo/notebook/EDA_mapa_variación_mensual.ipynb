{
 "cells": [
  {
   "cell_type": "markdown",
   "metadata": {},
   "source": [
    "# Análisis de Datos - Turismo Internacional en España 2019-2024\n",
    "\n",
    "![](https://mediterrani.com/wp-content/webp-express/webp-images/uploads/2018/05/sector-turi%CC%81stico-en-espan%CC%83a.jpg.webp)"
   ]
  },
  {
   "cell_type": "markdown",
   "metadata": {},
   "source": [
    "## Preparación y Carga de Datos"
   ]
  },
  {
   "cell_type": "markdown",
   "metadata": {},
   "source": [
    "### Librerías"
   ]
  },
  {
   "cell_type": "code",
   "execution_count": null,
   "metadata": {},
   "outputs": [],
   "source": [
    "# Tratamiento de datos\n",
    "import numpy as np\n",
    "import pandas as pd\n",
    "\n",
    "# Gráficos\n",
    "import matplotlib.pyplot as plt\n",
    "import plotly.express as px\n",
    "import seaborn as sns\n",
    "\n",
    "# Otros\n",
    "import json"
   ]
  },
  {
   "cell_type": "markdown",
   "metadata": {},
   "source": [
    "## Carga de Datos"
   ]
  },
  {
   "cell_type": "code",
   "execution_count": null,
   "metadata": {},
   "outputs": [],
   "source": [
    "dftotal = pd.read_csv(\"total.csv\")"
   ]
  },
  {
   "cell_type": "markdown",
   "metadata": {},
   "source": [
    "## Análisis Exploratorio de Datos (EDA)"
   ]
  },
  {
   "cell_type": "markdown",
   "metadata": {},
   "source": [
    "### Mapa Temporal Variación Turística"
   ]
  },
  {
   "cell_type": "code",
   "execution_count": null,
   "metadata": {},
   "outputs": [],
   "source": [
    "with open(\"provincias_españa.geojson\", \"r\", encoding=\"utf-8\") as f:\n",
    "    geojson = json.load(f)\n",
    "\n",
    "fig = px.choropleth(\n",
    "    dftotal,\n",
    "    geojson=geojson,\n",
    "    locations=\"PROVINCIA_DESTINO\",\n",
    "    featureidkey=\"properties.name\",\n",
    "    color=\"TURISTAS\",\n",
    "    animation_frame=\"FECHA\",\n",
    "    color_continuous_scale=\"Viridis\"\n",
    ")\n",
    "\n",
    "fig.update_geos(fitbounds=\"locations\", visible=True)\n",
    "plt.savefig('mapa_turistas.png')\n",
    "fig.show()"
   ]
  },
  {
   "cell_type": "markdown",
   "metadata": {},
   "source": [
    "### Mapa Temporal Variación de las Pernoctaciones"
   ]
  },
  {
   "cell_type": "code",
   "execution_count": null,
   "metadata": {},
   "outputs": [],
   "source": [
    "with open(\"provincias_españa.geojson\", \"r\", encoding=\"utf-8\") as f:\n",
    "    geojson = json.load(f)\n",
    "\n",
    "fig = px.choropleth(\n",
    "    dftotal,\n",
    "    geojson=geojson,\n",
    "    locations=\"PROVINCIA_DESTINO\",\n",
    "    featureidkey=\"properties.name\",\n",
    "    color=\"PERNOCTACIONES\",\n",
    "    animation_frame=\"FECHA\",\n",
    "    color_continuous_scale=\"Viridis\"\n",
    ")\n",
    "\n",
    "fig.update_geos(fitbounds=\"locations\", visible=True)\n",
    "\n",
    "fig.show()"
   ]
  },
  {
   "cell_type": "markdown",
   "metadata": {},
   "source": [
    "### Mapa Temporal Variación de la Estancia Media Turística"
   ]
  },
  {
   "cell_type": "code",
   "execution_count": null,
   "metadata": {},
   "outputs": [],
   "source": [
    "with open(\"provincias_españa.geojson\", \"r\", encoding=\"utf-8\") as f:\n",
    "    geojson = json.load(f)\n",
    "\n",
    "fig = px.choropleth(\n",
    "    dftotal,\n",
    "    geojson=geojson,\n",
    "    locations=\"PROVINCIA_DESTINO\",\n",
    "    featureidkey=\"properties.name\",\n",
    "    color=\"ESTANCIA_MEDIA\",\n",
    "    animation_frame=\"FECHA\",\n",
    "    color_continuous_scale=\"Viridis\"\n",
    ")\n",
    "\n",
    "fig.update_geos(fitbounds=\"locations\", visible=True)\n",
    "\n",
    "fig.show()"
   ]
  }
 ],
 "metadata": {
  "kernelspec": {
   "display_name": "bootcamp-ds-gDITtNOb-py3.11",
   "language": "python",
   "name": "python3"
  },
  "language_info": {
   "codemirror_mode": {
    "name": "ipython",
    "version": 3
   },
   "file_extension": ".py",
   "mimetype": "text/x-python",
   "name": "python",
   "nbconvert_exporter": "python",
   "pygments_lexer": "ipython3",
   "version": "3.11.7"
  }
 },
 "nbformat": 4,
 "nbformat_minor": 2
}
